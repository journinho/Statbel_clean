{
 "cells":[
  {
   "cell_type":"code",
   "source":[
    "import pandas as pd"
   ],
   "execution_count":2,
   "outputs":[
    
   ],
   "metadata":{
    "datalore":{
     "node_id":"Ovic4rKI3cUJO136i7evki",
     "type":"CODE",
     "hide_input_from_viewers":false,
     "hide_output_from_viewers":false
    }
   }
  },
  {
   "cell_type":"code",
   "source":[
    "#import data\n",
    "url = 'https:\/\/statbel.fgov.be\/sites\/default\/files\/files\/opendata\/bevolking%20naar%20woonplaats%2C%20nationaliteit%20burgelijke%20staat%20%2C%20leeftijd%20en%20geslacht\/TF_SOC_POP_STRUCT_2022.zip'\n",
    "df = pd.read_csv(url, sep='|', encoding = \"ISO-8859-1\")\n",
    "#delete columns in french\n",
    "df = df.drop(['TX_ADM_DSTR_DESCR_FR','TX_DESCR_FR', 'TX_RGN_DESCR_FR', 'TX_PROV_DESCR_FR', 'TX_NATLTY_FR', 'TX_CIV_STS_FR' ], axis=1)"
   ],
   "execution_count":9,
   "outputs":[
    
   ],
   "metadata":{
    "datalore":{
     "node_id":"zg8wUPxpEZRbxP2FeoRXoT",
     "type":"CODE",
     "hide_input_from_viewers":false,
     "hide_output_from_viewers":false
    }
   }
  },
  {
   "cell_type":"code",
   "source":[
    "df.head()"
   ],
   "execution_count":40,
   "outputs":[
    {
     "data":{
      "text\/html":[
       "<div>\n",
       "<style scoped>\n",
       "    .dataframe tbody tr th:only-of-type {\n",
       "        vertical-align: middle;\n",
       "    }\n",
       "\n",
       "    .dataframe tbody tr th {\n",
       "        vertical-align: top;\n",
       "    }\n",
       "\n",
       "    .dataframe thead th {\n",
       "        text-align: right;\n",
       "    }\n",
       "<\/style>\n",
       "<table border=\"1\" class=\"dataframe\">\n",
       "  <thead>\n",
       "    <tr style=\"text-align: right;\">\n",
       "      <th><\/th>\n",
       "      <th>CD_REFNIS<\/th>\n",
       "      <th>TX_DESCR_NL<\/th>\n",
       "      <th>CD_DSTR_REFNIS<\/th>\n",
       "      <th>TX_ADM_DSTR_DESCR_NL<\/th>\n",
       "      <th>CD_PROV_REFNIS<\/th>\n",
       "      <th>TX_PROV_DESCR_NL<\/th>\n",
       "      <th>CD_RGN_REFNIS<\/th>\n",
       "      <th>TX_RGN_DESCR_NL<\/th>\n",
       "      <th>CD_SEX<\/th>\n",
       "      <th>CD_NATLTY<\/th>\n",
       "      <th>TX_NATLTY_NL<\/th>\n",
       "      <th>CD_CIV_STS<\/th>\n",
       "      <th>TX_CIV_STS_NL<\/th>\n",
       "      <th>CD_AGE<\/th>\n",
       "      <th>MS_POPULATION<\/th>\n",
       "    <\/tr>\n",
       "  <\/thead>\n",
       "  <tbody>\n",
       "    <tr>\n",
       "      <th>0<\/th>\n",
       "      <td>11001<\/td>\n",
       "      <td>Aartselaar<\/td>\n",
       "      <td>11000<\/td>\n",
       "      <td>Arrondissement Antwerpen<\/td>\n",
       "      <td>10000.0<\/td>\n",
       "      <td>Provincie Antwerpen<\/td>\n",
       "      <td>2000<\/td>\n",
       "      <td>Vlaams Gewest<\/td>\n",
       "      <td>M<\/td>\n",
       "      <td>ETR<\/td>\n",
       "      <td>niet-Belgen<\/td>\n",
       "      <td>4<\/td>\n",
       "      <td>Gescheiden<\/td>\n",
       "      <td>56<\/td>\n",
       "      <td>1<\/td>\n",
       "    <\/tr>\n",
       "    <tr>\n",
       "      <th>1<\/th>\n",
       "      <td>11001<\/td>\n",
       "      <td>Aartselaar<\/td>\n",
       "      <td>11000<\/td>\n",
       "      <td>Arrondissement Antwerpen<\/td>\n",
       "      <td>10000.0<\/td>\n",
       "      <td>Provincie Antwerpen<\/td>\n",
       "      <td>2000<\/td>\n",
       "      <td>Vlaams Gewest<\/td>\n",
       "      <td>F<\/td>\n",
       "      <td>BEL<\/td>\n",
       "      <td>Belgen<\/td>\n",
       "      <td>4<\/td>\n",
       "      <td>Gescheiden<\/td>\n",
       "      <td>49<\/td>\n",
       "      <td>12<\/td>\n",
       "    <\/tr>\n",
       "    <tr>\n",
       "      <th>2<\/th>\n",
       "      <td>11001<\/td>\n",
       "      <td>Aartselaar<\/td>\n",
       "      <td>11000<\/td>\n",
       "      <td>Arrondissement Antwerpen<\/td>\n",
       "      <td>10000.0<\/td>\n",
       "      <td>Provincie Antwerpen<\/td>\n",
       "      <td>2000<\/td>\n",
       "      <td>Vlaams Gewest<\/td>\n",
       "      <td>F<\/td>\n",
       "      <td>BEL<\/td>\n",
       "      <td>Belgen<\/td>\n",
       "      <td>4<\/td>\n",
       "      <td>Gescheiden<\/td>\n",
       "      <td>61<\/td>\n",
       "      <td>17<\/td>\n",
       "    <\/tr>\n",
       "    <tr>\n",
       "      <th>3<\/th>\n",
       "      <td>11001<\/td>\n",
       "      <td>Aartselaar<\/td>\n",
       "      <td>11000<\/td>\n",
       "      <td>Arrondissement Antwerpen<\/td>\n",
       "      <td>10000.0<\/td>\n",
       "      <td>Provincie Antwerpen<\/td>\n",
       "      <td>2000<\/td>\n",
       "      <td>Vlaams Gewest<\/td>\n",
       "      <td>M<\/td>\n",
       "      <td>BEL<\/td>\n",
       "      <td>Belgen<\/td>\n",
       "      <td>4<\/td>\n",
       "      <td>Gescheiden<\/td>\n",
       "      <td>35<\/td>\n",
       "      <td>4<\/td>\n",
       "    <\/tr>\n",
       "    <tr>\n",
       "      <th>4<\/th>\n",
       "      <td>11001<\/td>\n",
       "      <td>Aartselaar<\/td>\n",
       "      <td>11000<\/td>\n",
       "      <td>Arrondissement Antwerpen<\/td>\n",
       "      <td>10000.0<\/td>\n",
       "      <td>Provincie Antwerpen<\/td>\n",
       "      <td>2000<\/td>\n",
       "      <td>Vlaams Gewest<\/td>\n",
       "      <td>M<\/td>\n",
       "      <td>BEL<\/td>\n",
       "      <td>Belgen<\/td>\n",
       "      <td>4<\/td>\n",
       "      <td>Gescheiden<\/td>\n",
       "      <td>31<\/td>\n",
       "      <td>3<\/td>\n",
       "    <\/tr>\n",
       "  <\/tbody>\n",
       "<\/table>\n",
       "<\/div>"
      ]
     },
     "metadata":{
      
     },
     "output_type":"display_data"
    }
   ],
   "metadata":{
    "datalore":{
     "node_id":"hbuirLlBg7hlccKeVnaBCw",
     "type":"CODE",
     "hide_input_from_viewers":false,
     "hide_output_from_viewers":false
    }
   }
  },
  {
   "cell_type":"markdown",
   "source":[
    "# Leeftijdspiramide"
   ],
   "attachments":{
    
   },
   "metadata":{
    "datalore":{
     "node_id":"Ze2l8adCGib1XXYJaISUvG",
     "type":"MD",
     "hide_input_from_viewers":false,
     "hide_output_from_viewers":false
    }
   }
  },
  {
   "cell_type":"code",
   "source":[
    "leeftijd_per_geslacht = pd.pivot_table(df, index='CD_AGE', columns='CD_SEX', values='MS_POPULATION', aggfunc='sum').reset_index()\n",
    "leeftijd_per_geslacht.rename(columns = {'CD_AGE':'Leeftijd', 'F':'Vrouw', 'M':'Man'}, inplace = True)\n",
    "leeftijd_per_geslacht.set_index(\"Leeftijd\", inplace=True)\n",
    "leeftijd_per_geslacht.to_csv('Bevolkingsaantal_per_leeftijd_geslacht.csv')\n",
    "leeftijd_per_geslacht"
   ],
   "execution_count":52,
   "outputs":[
    {
     "data":{
      "text\/html":[
       "<div>\n",
       "<style scoped>\n",
       "    .dataframe tbody tr th:only-of-type {\n",
       "        vertical-align: middle;\n",
       "    }\n",
       "\n",
       "    .dataframe tbody tr th {\n",
       "        vertical-align: top;\n",
       "    }\n",
       "\n",
       "    .dataframe thead th {\n",
       "        text-align: right;\n",
       "    }\n",
       "<\/style>\n",
       "<table border=\"1\" class=\"dataframe\">\n",
       "  <thead>\n",
       "    <tr style=\"text-align: right;\">\n",
       "      <th>CD_SEX<\/th>\n",
       "      <th>Vrouw<\/th>\n",
       "      <th>Man<\/th>\n",
       "    <\/tr>\n",
       "    <tr>\n",
       "      <th>Leeftijd<\/th>\n",
       "      <th><\/th>\n",
       "      <th><\/th>\n",
       "    <\/tr>\n",
       "  <\/thead>\n",
       "  <tbody>\n",
       "    <tr>\n",
       "      <th>0<\/th>\n",
       "      <td>57716<\/td>\n",
       "      <td>60336<\/td>\n",
       "    <\/tr>\n",
       "    <tr>\n",
       "      <th>1<\/th>\n",
       "      <td>56206<\/td>\n",
       "      <td>58849<\/td>\n",
       "    <\/tr>\n",
       "    <tr>\n",
       "      <th>2<\/th>\n",
       "      <td>58376<\/td>\n",
       "      <td>60502<\/td>\n",
       "    <\/tr>\n",
       "    <tr>\n",
       "      <th>3<\/th>\n",
       "      <td>59102<\/td>\n",
       "      <td>61588<\/td>\n",
       "    <\/tr>\n",
       "    <tr>\n",
       "      <th>4<\/th>\n",
       "      <td>59853<\/td>\n",
       "      <td>62564<\/td>\n",
       "    <\/tr>\n",
       "    <tr>\n",
       "      <th>...<\/th>\n",
       "      <td>...<\/td>\n",
       "      <td>...<\/td>\n",
       "    <\/tr>\n",
       "    <tr>\n",
       "      <th>96<\/th>\n",
       "      <td>4803<\/td>\n",
       "      <td>1495<\/td>\n",
       "    <\/tr>\n",
       "    <tr>\n",
       "      <th>97<\/th>\n",
       "      <td>3395<\/td>\n",
       "      <td>932<\/td>\n",
       "    <\/tr>\n",
       "    <tr>\n",
       "      <th>98<\/th>\n",
       "      <td>2294<\/td>\n",
       "      <td>565<\/td>\n",
       "    <\/tr>\n",
       "    <tr>\n",
       "      <th>99<\/th>\n",
       "      <td>1508<\/td>\n",
       "      <td>347<\/td>\n",
       "    <\/tr>\n",
       "    <tr>\n",
       "      <th>100<\/th>\n",
       "      <td>2138<\/td>\n",
       "      <td>423<\/td>\n",
       "    <\/tr>\n",
       "  <\/tbody>\n",
       "<\/table>\n",
       "<p>101 rows × 2 columns<\/p>\n",
       "<\/div>"
      ]
     },
     "metadata":{
      
     },
     "output_type":"display_data"
    }
   ],
   "metadata":{
    "datalore":{
     "node_id":"THLnI9BFg8Dfu9gcNnoLTf",
     "type":"CODE",
     "hide_input_from_viewers":false,
     "hide_output_from_viewers":false
    }
   }
  },
  {
   "cell_type":"markdown",
   "source":[
    "# Bevolkingsaantal per gemeente"
   ],
   "attachments":{
    
   },
   "metadata":{
    "datalore":{
     "node_id":"Dvkpz2WGkfy2vZZ7yzdNzI",
     "type":"MD",
     "hide_input_from_viewers":false,
     "hide_output_from_viewers":false
    }
   }
  },
  {
   "cell_type":"code",
   "source":[
    "bevolking_per_gemeente = pd.pivot_table(df, index=[\"TX_DESCR_NL\", \"CD_REFNIS\"], values='MS_POPULATION', aggfunc='sum').reset_index()\n",
    "bevolking_per_gemeente.rename(columns={\"TX_DESCR_NL\":\"Gemeente\", \"MS_POPULATION\": \"Aantal\", \"CD_REFNIS\":\"NSI-code\"}, inplace=True)\n",
    "bevolking_per_gemeente.to_csv('bevolkingsaantal_per_gemeente.csv')"
   ],
   "execution_count":50,
   "outputs":[
    
   ],
   "metadata":{
    "datalore":{
     "node_id":"XsRQCi1GErP68xA7aUjXu0",
     "type":"CODE",
     "hide_input_from_viewers":false,
     "hide_output_from_viewers":false
    }
   }
  },
  {
   "cell_type":"code",
   "source":[
    "bevolking_per_gemeente"
   ],
   "execution_count":51,
   "outputs":[
    {
     "data":{
      "text\/html":[
       "<div>\n",
       "<style scoped>\n",
       "    .dataframe tbody tr th:only-of-type {\n",
       "        vertical-align: middle;\n",
       "    }\n",
       "\n",
       "    .dataframe tbody tr th {\n",
       "        vertical-align: top;\n",
       "    }\n",
       "\n",
       "    .dataframe thead th {\n",
       "        text-align: right;\n",
       "    }\n",
       "<\/style>\n",
       "<table border=\"1\" class=\"dataframe\">\n",
       "  <thead>\n",
       "    <tr style=\"text-align: right;\">\n",
       "      <th><\/th>\n",
       "      <th>Gemeente<\/th>\n",
       "      <th>NSI-code<\/th>\n",
       "      <th>Aantal<\/th>\n",
       "    <\/tr>\n",
       "  <\/thead>\n",
       "  <tbody>\n",
       "    <tr>\n",
       "      <th>0<\/th>\n",
       "      <td>Aalst (Aalst)<\/td>\n",
       "      <td>41002<\/td>\n",
       "      <td>88854<\/td>\n",
       "    <\/tr>\n",
       "    <tr>\n",
       "      <th>1<\/th>\n",
       "      <td>Aalter<\/td>\n",
       "      <td>44084<\/td>\n",
       "      <td>29340<\/td>\n",
       "    <\/tr>\n",
       "    <tr>\n",
       "      <th>2<\/th>\n",
       "      <td>Aarlen<\/td>\n",
       "      <td>81001<\/td>\n",
       "      <td>30818<\/td>\n",
       "    <\/tr>\n",
       "    <tr>\n",
       "      <th>3<\/th>\n",
       "      <td>Aarschot<\/td>\n",
       "      <td>24001<\/td>\n",
       "      <td>30594<\/td>\n",
       "    <\/tr>\n",
       "    <tr>\n",
       "      <th>4<\/th>\n",
       "      <td>Aartselaar<\/td>\n",
       "      <td>11001<\/td>\n",
       "      <td>14610<\/td>\n",
       "    <\/tr>\n",
       "    <tr>\n",
       "      <th>...<\/th>\n",
       "      <td>...<\/td>\n",
       "      <td>...<\/td>\n",
       "      <td>...<\/td>\n",
       "    <\/tr>\n",
       "    <tr>\n",
       "      <th>576<\/th>\n",
       "      <td>Zutendaal<\/td>\n",
       "      <td>71067<\/td>\n",
       "      <td>7307<\/td>\n",
       "    <\/tr>\n",
       "    <tr>\n",
       "      <th>577<\/th>\n",
       "      <td>Zwalm<\/td>\n",
       "      <td>45065<\/td>\n",
       "      <td>8244<\/td>\n",
       "    <\/tr>\n",
       "    <tr>\n",
       "      <th>578<\/th>\n",
       "      <td>Zwevegem<\/td>\n",
       "      <td>34042<\/td>\n",
       "      <td>25140<\/td>\n",
       "    <\/tr>\n",
       "    <tr>\n",
       "      <th>579<\/th>\n",
       "      <td>Zwijndrecht<\/td>\n",
       "      <td>11056<\/td>\n",
       "      <td>19243<\/td>\n",
       "    <\/tr>\n",
       "    <tr>\n",
       "      <th>580<\/th>\n",
       "      <td>s Gravenbrakel<\/td>\n",
       "      <td>55004<\/td>\n",
       "      <td>22752<\/td>\n",
       "    <\/tr>\n",
       "  <\/tbody>\n",
       "<\/table>\n",
       "<p>581 rows × 3 columns<\/p>\n",
       "<\/div>"
      ]
     },
     "metadata":{
      
     },
     "output_type":"display_data"
    }
   ],
   "metadata":{
    "datalore":{
     "node_id":"niOlglo48ORpmxZmtoTtsk",
     "type":"CODE",
     "hide_input_from_viewers":false,
     "hide_output_from_viewers":false
    }
   }
  },
  {
   "cell_type":"code",
   "source":[
    "bevolking_per_gemeente_geslacht = pd.pivot_table(df, index=[\"TX_DESCR_NL\", \"CD_REFNIS\"], columns=\"CD_SEX\", values='MS_POPULATION', aggfunc='sum').reset_index()\n",
    "bevolking_per_gemeente_geslacht.rename(columns={\"TX_DESCR_NL\":\"Gemeente\", \"MS_POPULATION\": \"Aantal\", \"CD_REFNIS\":\"NSI-code\", \"F\":\"Vrouw\", \"M\":\"Man\"}, inplace=True)\n",
    "bevolking_per_gemeente_geslacht.to_csv('bevolkingsaantal_per_gemeente_geslacht.csv')\n",
    "bevolking_per_gemeente_geslacht"
   ],
   "execution_count":56,
   "outputs":[
    {
     "data":{
      "text\/html":[
       "<div>\n",
       "<style scoped>\n",
       "    .dataframe tbody tr th:only-of-type {\n",
       "        vertical-align: middle;\n",
       "    }\n",
       "\n",
       "    .dataframe tbody tr th {\n",
       "        vertical-align: top;\n",
       "    }\n",
       "\n",
       "    .dataframe thead th {\n",
       "        text-align: right;\n",
       "    }\n",
       "<\/style>\n",
       "<table border=\"1\" class=\"dataframe\">\n",
       "  <thead>\n",
       "    <tr style=\"text-align: right;\">\n",
       "      <th>CD_SEX<\/th>\n",
       "      <th>Gemeente<\/th>\n",
       "      <th>NSI-code<\/th>\n",
       "      <th>Vrouw<\/th>\n",
       "      <th>Man<\/th>\n",
       "    <\/tr>\n",
       "  <\/thead>\n",
       "  <tbody>\n",
       "    <tr>\n",
       "      <th>0<\/th>\n",
       "      <td>Aalst (Aalst)<\/td>\n",
       "      <td>41002<\/td>\n",
       "      <td>45277<\/td>\n",
       "      <td>43577<\/td>\n",
       "    <\/tr>\n",
       "    <tr>\n",
       "      <th>1<\/th>\n",
       "      <td>Aalter<\/td>\n",
       "      <td>44084<\/td>\n",
       "      <td>14608<\/td>\n",
       "      <td>14732<\/td>\n",
       "    <\/tr>\n",
       "    <tr>\n",
       "      <th>2<\/th>\n",
       "      <td>Aarlen<\/td>\n",
       "      <td>81001<\/td>\n",
       "      <td>15424<\/td>\n",
       "      <td>15394<\/td>\n",
       "    <\/tr>\n",
       "    <tr>\n",
       "      <th>3<\/th>\n",
       "      <td>Aarschot<\/td>\n",
       "      <td>24001<\/td>\n",
       "      <td>15599<\/td>\n",
       "      <td>14995<\/td>\n",
       "    <\/tr>\n",
       "    <tr>\n",
       "      <th>4<\/th>\n",
       "      <td>Aartselaar<\/td>\n",
       "      <td>11001<\/td>\n",
       "      <td>7368<\/td>\n",
       "      <td>7242<\/td>\n",
       "    <\/tr>\n",
       "    <tr>\n",
       "      <th>...<\/th>\n",
       "      <td>...<\/td>\n",
       "      <td>...<\/td>\n",
       "      <td>...<\/td>\n",
       "      <td>...<\/td>\n",
       "    <\/tr>\n",
       "    <tr>\n",
       "      <th>576<\/th>\n",
       "      <td>Zutendaal<\/td>\n",
       "      <td>71067<\/td>\n",
       "      <td>3636<\/td>\n",
       "      <td>3671<\/td>\n",
       "    <\/tr>\n",
       "    <tr>\n",
       "      <th>577<\/th>\n",
       "      <td>Zwalm<\/td>\n",
       "      <td>45065<\/td>\n",
       "      <td>4167<\/td>\n",
       "      <td>4077<\/td>\n",
       "    <\/tr>\n",
       "    <tr>\n",
       "      <th>578<\/th>\n",
       "      <td>Zwevegem<\/td>\n",
       "      <td>34042<\/td>\n",
       "      <td>12677<\/td>\n",
       "      <td>12463<\/td>\n",
       "    <\/tr>\n",
       "    <tr>\n",
       "      <th>579<\/th>\n",
       "      <td>Zwijndrecht<\/td>\n",
       "      <td>11056<\/td>\n",
       "      <td>9791<\/td>\n",
       "      <td>9452<\/td>\n",
       "    <\/tr>\n",
       "    <tr>\n",
       "      <th>580<\/th>\n",
       "      <td>s Gravenbrakel<\/td>\n",
       "      <td>55004<\/td>\n",
       "      <td>11580<\/td>\n",
       "      <td>11172<\/td>\n",
       "    <\/tr>\n",
       "  <\/tbody>\n",
       "<\/table>\n",
       "<p>581 rows × 4 columns<\/p>\n",
       "<\/div>"
      ]
     },
     "metadata":{
      
     },
     "output_type":"display_data"
    }
   ],
   "metadata":{
    "datalore":{
     "node_id":"fSSdo8jySr9veeDQQT2CdT",
     "type":"CODE",
     "hide_input_from_viewers":false,
     "hide_output_from_viewers":false
    }
   }
  },
  {
   "cell_type":"code",
   "source":[
    
   ],
   "execution_count":null,
   "outputs":[
    
   ],
   "metadata":{
    "datalore":{
     "node_id":"oIIYYoPd8zfEwNnfPUMsQD",
     "type":"CODE",
     "hide_input_from_viewers":false,
     "hide_output_from_viewers":false
    }
   }
  }
 ],
 "metadata":{
  "kernelspec":{
   "display_name":"Python",
   "language":"python",
   "name":"python"
  },
  "datalore":{
   "version":1,
   "computation_mode":"JUPYTER",
   "package_manager":"pip",
   "base_environment":"default",
   "packages":[
    
   ]
  }
 },
 "nbformat":4,
 "nbformat_minor":4
}